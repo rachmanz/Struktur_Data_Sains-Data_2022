{
  "nbformat": 4,
  "nbformat_minor": 0,
  "metadata": {
    "colab": {
      "provenance": []
    },
    "kernelspec": {
      "name": "python3",
      "display_name": "Python 3"
    },
    "language_info": {
      "name": "python"
    }
  },
  "cells": [
    {
      "cell_type": "markdown",
      "source": [
        "# **Tugas Stuktur Data pertemuan ke 9**\n",
        "# **Exercise 9 Data Structure**\n",
        "Nama : Abdurrahman Al-atsary \\\\\n",
        "NIM  : 121450128 \\\\\n",
        "Kelas : RC\n",
        "\n"
      ],
      "metadata": {
        "id": "TIMCU1y9SCzS"
      }
    },
    {
      "cell_type": "markdown",
      "source": [
        "## __Introduction Section__\n",
        "---\n",
        "1. Jelaskan definisi object dalam Paradigma Object-Oriented!\n",
        "2. Jelaskan tiga tujuan dalam Paradigma Object-Oriented!\n",
        "3. Jelaskan tiga prinsip dalam Paradigma Object-Oriented!\n",
        "4. Sebutkan contoh design pattern dalam Paradigma Object-Oriented!\n",
        "\n"
      ],
      "metadata": {
        "id": "AcHOsRaQxKxe"
      }
    },
    {
      "cell_type": "markdown",
      "source": [
        "### __Jawaban__ : \n",
        "---\n",
        "1. Dalam pemrograman berorientasi objek (OOP), objek adalah hal yang Anda pikirkan pertama kali dalam merancang sebuah program dan juga merupakan unit kode yang pada akhirnya diturunkan dari proses. Di antaranya, setiap objek dibuat menjadi kelas objek generik, dan bahkan lebih banyak kelas generik didefinisikan sehingga objek dapat berbagi model dan menggunakan kembali definisi kelas dalam kodenya. Setiap objek adalah turunan dari kelas atau subkelas tertentu dengan metode atau prosedur dan variabel data kelas itu sendiri. Objek adalah apa yang sebenarnya berjalan di komputer.\n",
        "\n",
        "2. Modularitas untuk pemecahan masalah yang lebih mudah, Penggunaan kembali kode melalui warisan, Fleksibilitas melalui polimorfisme, Pemecahan masalah yang efektif.\n",
        "\n",
        "3. Abstraction (Abstraksi), Inharitance (Penurunan sifat), Encapsulation, Polymorphism\n",
        "\n",
        "4. Creational Patterns, Structural Patterns, Behavioral Patterns, J2EE Patterns"
      ],
      "metadata": {
        "id": "zUuxBatBxkZq"
      }
    },
    {
      "cell_type": "markdown",
      "source": [
        "## __Class and Object__\n",
        "1. Jelaskan definisi Class!\n",
        "2. Jelaskan perbedaan Attribute dengan Method!\n",
        "3. Jelaskan apa itu instansiasi Object!\n",
        "4. Jelaskan apa itu identifier!"
      ],
      "metadata": {
        "id": "7_BRubL50u7j"
      }
    },
    {
      "cell_type": "markdown",
      "source": [
        "### __Jawaban__ :\n",
        "1. ___Class___ di dalam OOP di gunakan untuk membuat sebuah kerangka kerja dalam membuat program atau dapat dikatakan ___Class___ adalah cetak biru atau blueprint dari object. Class digunakan hanya untuk membuat kerangka dasar. Yang akan kita pakai nanti adalah hasil cetakan dari class, yakni object\n",
        "2. ___Attribute___ merupakan karakteristik dari suatu class. Attribut ini berupa suatu variable yang terletak tepat di dalam class. Sementara ___Method___ merupakan fungsi yang merupakan kepemilikan dari objek tersebut.\n",
        "3. ___Instance objek___ adalah kejadian atau fungsi spesifik dari suatu objek.\n",
        "4. Object Identifier adalah nama jangka panjang yang tidak ambigu untuk semua jenis objek atau entitas "
      ],
      "metadata": {
        "id": "BSIyeD6l016z"
      }
    },
    {
      "cell_type": "markdown",
      "source": [
        "## __Implementing Class__\n",
        "Implementasikan kelas diagram \"Kendaraan\" berikut ke dalam Python!\n",
        "\n",
        "   Class Kendaraan :\n",
        "   \n",
        "    - string nomorPlat\n",
        "    - string merk\n",
        "    - string jenis\n",
        "    - string warna\n",
        "    - int tanggalBeli\n",
        "    - int bulanBeli\n",
        "    - int tahunBeli\n",
        "    - double berat\n",
        "    - double harga\n",
        "    - showTanggalPembelian()"
      ],
      "metadata": {
        "id": "a1f-1BVR3WcC"
      }
    },
    {
      "cell_type": "markdown",
      "source": [
        "### __Jawaban__:"
      ],
      "metadata": {
        "id": "98I8OQQBZcVX"
      }
    },
    {
      "cell_type": "code",
      "source": [
        "class Kendaraan:\n",
        "  def __init__ (self, nomorPlat, merk, jenis, warna, tanggalBeli, bulanBeli, tahunBeli, berat, harga, ):\n",
        "    self.nomorPlat = nomorPlat\n",
        "    self.merk  = merk \n",
        "    self.jenis = jenis\n",
        "    self.warna = warna\n",
        "    self.tanggalBeli = tanggalBeli  \n",
        "    self.bulanBeli = bulanBeli  \n",
        "    self.tahunBeli = tahunBeli\n",
        "    self.berat = berat\n",
        "    self.harga = harga\n",
        "  \n",
        "  def showTanggalPembelian(self):\n",
        "    print(f\"{self.nomorPlat}, {self.merk}, {self.warna}, {self.tanggalBeli}/{self.bulanBeli}/{self.tahunBeli}, 'harga : {self.harga}'\")\n",
        "\n",
        "# Main Program \n",
        "Beli = Kendaraan(\"BE 121 AR\", \"Honda\", \"Matic\", \"Merah\", 12, 12, 2012, 12.45, 12999999.99)\n",
        "Beli.showTanggalPembelian()\n",
        "\n",
        "  "
      ],
      "metadata": {
        "colab": {
          "base_uri": "https://localhost:8080/"
        },
        "id": "e9E2-VXkNitj",
        "outputId": "a5696098-8bd1-4b19-d7b8-0615fa1b1fcb"
      },
      "execution_count": null,
      "outputs": [
        {
          "output_type": "stream",
          "name": "stdout",
          "text": [
            "BE 121 AR, Honda, Merah, 12/12/2012, 'harga : 12999999.99'\n"
          ]
        }
      ]
    },
    {
      "cell_type": "markdown",
      "source": [
        "## __Main OOP Concept__\n",
        "1. Jelaskan konsep encapsulation dalam Paradigma Object-Oriented!\n",
        "2. Jelaskan konsep inheritance dalam Paradigma Object-Oriented!\n",
        "3. Jelaskan perbedaan public method dan private method dalam encapsulation!\n",
        "4. Jelaskan perbedaan superclass dan subclass dalam inheritance!"
      ],
      "metadata": {
        "id": "pLaevbK13nwL"
      }
    },
    {
      "cell_type": "markdown",
      "source": [
        "### __Jawaban__ :\n",
        "1. Dalam bahasa pemrograman komputer berorientasi objek (OOP), gagasan enkapsulasi (atau Enkapsulasi OOP) mengacu pada bundling data, bersama dengan metode / fungsi yang beroperasi pada data itu, menjadi satu unit.\n",
        "\n",
        "2. Inheritance merupakan konsep penurunan sifat dalam fungsi class dan method, kelas turunan akan selalu memiliki sifat dan perilaku yang sama dengan kelas induknya: mulai dari atribut sampai fungsi-fungsinya.\n",
        "\n",
        "3. **Public** = dapat diakses dari mana saja, sedangkan **Private** = hanya dapat diakses dari objek itu sendiri\n",
        "\n",
        "4. ***Superclass*** adalah kelas yang ada dari mana kelas baru diturunkan sedangkan ***Subclass*** adalah kelas baru yang mewarisi properti dan metode Superclass.\n",
        "\n"
      ],
      "metadata": {
        "id": "-_X1TUlN3wT1"
      }
    },
    {
      "cell_type": "markdown",
      "source": [
        "\n",
        "## __Programming Exercise__\n",
        "- Buatlah class diagram dari code python berikut ini:\n",
        "\n",
        "```python\n",
        "class Koordinat:\n",
        "\tdef __init__(self,x,y):\n",
        "\t\tself.z = 0\n",
        "\t\tself.x = x\n",
        "\t\tself.y = y\n",
        "\tdef set_x(self,x):\n",
        "\t\tself.x = x\n",
        "\tdef increment_x(self):\n",
        "\t\tself.x+=1\n",
        "\tdef __str__(self):\n",
        "\t\treturn f\"x : {self.x} , y:{self.y} , z:{self.z}\"\n",
        "```\n",
        "\n",
        "- Implementasikan class diagram berikut menjadi program python!\n",
        "\n",
        "```mermaid\n",
        "classDiagram\n",
        "class Koordinat{\n",
        "\tint x\n",
        "\tint y\n",
        "\tint z\n",
        "\tsetx()\n",
        "\tsety()\n",
        "\tsetz()\n",
        "}\n",
        "class Vector{\n",
        "\tKoordinat koordinat\n",
        "\tsetKoordinat()\n",
        "\tgetKoordinat()\n",
        "\tnorm()\n",
        "}\n",
        "```\n",
        "\n",
        "- fungsi norm() adalah fungsi untuk menghitung norm dari sebuah vector yaitu\n",
        "norm = $\\sqrt{x^2 + y^2 + z^2}$ . Buatlah fungsi untuk menghitung norm dari vector berdasarkan class yang telah anda buat! \n",
        "\n",
        "- Euclidian Distance adalah jarak antara 2 vector dan didefinisikan sebagai \n",
        "$$d = \\sqrt{ (x_1 - x_2)^2 + (y_1 - y_2)^2 + (z_1 - z_2)^2 } $$\n",
        "buatlah program untuk menghitung euclidian distance antara 2 vector berdasarkan class yang telah anda buat!\n",
        "\n",
        "- Perhatikan tabel berikut\n",
        "\n",
        "| Vector | x   | y   | z   | kelas |\n",
        "| ------ | --- | --- | --- | ----- |\n",
        "| A      | 0   | 1   | 1   | 0     |\n",
        "| B      | 2   | 2   | 2   | 1     |\n",
        "| C      | 1.5 | 1.2 | 1.5 | 1     |\n",
        "| D      | 10  | 9   | 8   | 0     |\n",
        "| E      | 5   | 5   | 5   | 0     |\n",
        "| F      | 8   | 8   | 8   | 0     |\n",
        "| G      | 6   | 6   | 1   | 0     |\n",
        "| H      | 3   | 3   | 3   | ?     |\n",
        "\n",
        "Salah satu metode dalam data science untuk melakukan klasifikasi adalah dengan menggunakan k-nearest neighbor, dimana cara menentukan label kelas adalah dengan cara melihat tetangga dengan euclidian distance terdekat. Tentukan kelas dari vector H dengan cara:\n",
        "- Tentukan 3 tetangga paling dekat dari H \n",
        "- dari 3 tetangga tersebut, pilih kelas yang paling banyak muncul\n",
        "- Jadikan kelas yang paling banyak muncul tersebut sebagai kelas dari vector H\n",
        "\n",
        "Implementasikan algoritma tersebut menggunakan program python dengan paradigma object-oriented programming yang telah anda pelajari!"
      ],
      "metadata": {
        "id": "Mof20oH235F-"
      }
    },
    {
      "cell_type": "markdown",
      "source": [
        "### __Jawaban__:"
      ],
      "metadata": {
        "id": "lHV5kOstaVK-"
      }
    },
    {
      "cell_type": "code",
      "source": [
        "from math import sqrt\n",
        "import statistics\n",
        "class Vektor:\n",
        "  def __init__(self, vektor, x, y, z, nama_vektor):\n",
        "    self.vektor = vektor\n",
        "    self.x = x\n",
        "    self.y = y\n",
        "    self.z = z\n",
        "    self.nama_vektor = nama_vektor\n",
        "    self.kls_h = 0\n",
        "  def jarak(self):\n",
        "    vkt = []\n",
        "    jarak = []\n",
        "    # Jarak tetangga\n",
        "    for i in self.vektor:\n",
        "        komponen_vektor = list(self.vektor[i].values())\n",
        "        def dekat(komponen_vektor):\n",
        "            distance = 0\n",
        "            for i in komponen_vektor:\n",
        "                distance = sqrt((self.x-komponen_vektor[1])**2 + (self.y-komponen_vektor[2])**2 + (self.z-komponen_vektor[3])**2)\n",
        "            return distance\n",
        "        vkt = vkt + [self.vektor[i]]\n",
        "        jarak = jarak + [round(dekat(komponen_vektor), 2)]\n",
        "        print(f\"Jarak vektor {self.vektor[i]['vektor']} dengan vektor H adalah sebesar {round(dekat(komponen_vektor), 2)}\")\n",
        "    val_sorted = sorted(jarak)\n",
        "    tetangga = {}\n",
        "    for i in range(len(jarak)):\n",
        "        tetangga[jarak[i]] = vkt[i]    \n",
        "    print(\"Urutannya adalah:\")\n",
        "    for j in range(len(val_sorted)): \n",
        "        print(f\"Jarak vektor {tetangga[val_sorted[j]]['vektor']} dengan vektor H adalah sebesar {val_sorted[j]}\")\n",
        "    print(\"3 Tetangga terdekat:\")\n",
        "    kls = []\n",
        "    for k in range(3):\n",
        "        print(f\"Vektor {tetangga[val_sorted[k]]['vektor']} dengan kelas {tetangga[val_sorted[k]]['kelas']} pada jarak {val_sorted[k]} dengan vektor H\")\n",
        "        kls = kls + [tetangga[val_sorted[k]]['kelas']]\n",
        "    self.kls_h = statistics.mode(kls)\n",
        "    print(\"Kelas yang paling banyak muncul adalah = \", self.kls_h)\n",
        "    print(\"Kelas dari vektor H = \", self.kls_h)\n",
        "  def hasil(self):\n",
        "    return {'vektor': self.nama_vektor, 'x' : self.x, 'y' : self.y, 'z': self.z, 'kelas': self.kls_h}\n",
        "\n"
      ],
      "metadata": {
        "id": "NJINLk6DaaPt"
      },
      "execution_count": null,
      "outputs": []
    },
    {
      "cell_type": "code",
      "source": [
        "tabel = {\n",
        "    \"vektor1\" : {'vektor': 'A', 'x' : 0, 'y' : 1, 'z': 1, 'kelas': 0 },\n",
        "    \"vektor2\" : {'vektor': 'B', 'x' : 2, 'y' : 2, 'z': 2, 'kelas': 1},\n",
        "    \"vektor3\" : {'vektor': 'C', 'x' : 1.5, 'y' : 1.2, 'z': 1, 'kelas': 1},\n",
        "    \"vektor4\" : {'vektor': 'D', 'x' : 10, 'y' : 9, 'z': 0, 'kelas': 0},\n",
        "    \"vektor5\" : {'vektor': 'E', 'x' : 5, 'y' : 5, 'z': 5, 'kelas': 0},\n",
        "    \"vektor6\" : {'vektor': 'F', 'x' : 8, 'y' : 8, 'z': 0, 'kelas': 0},\n",
        "    \"vektor7\" : {'vektor': 'G', 'x' : 6, 'y' : 6, 'z': 0, 'kelas': 0},\n",
        "}\n",
        "for key in tabel:\n",
        "    print(tabel[key])\n",
        "print(\"\\n\")\n",
        "data = Vektor(tabel, 3, 3, 3, \"H\")\n",
        "data.jarak()\n",
        "print(data.hasil())\n",
        "tabel[\"vektor8\"] = data.hasil()\n",
        "print(\"\\n\")\n",
        "for key in tabel:\n",
        "    print(tabel[key])\n"
      ],
      "metadata": {
        "colab": {
          "base_uri": "https://localhost:8080/"
        },
        "id": "_vNAsJrlmVY5",
        "outputId": "e4921907-2f7b-4fef-8fe1-48716fb75120"
      },
      "execution_count": null,
      "outputs": [
        {
          "output_type": "stream",
          "name": "stdout",
          "text": [
            "{'vektor': 'A', 'x': 0, 'y': 1, 'z': 1, 'kelas': 0}\n",
            "{'vektor': 'B', 'x': 2, 'y': 2, 'z': 2, 'kelas': 1}\n",
            "{'vektor': 'C', 'x': 1.5, 'y': 1.2, 'z': 1, 'kelas': 1}\n",
            "{'vektor': 'D', 'x': 10, 'y': 9, 'z': 0, 'kelas': 0}\n",
            "{'vektor': 'E', 'x': 5, 'y': 5, 'z': 5, 'kelas': 0}\n",
            "{'vektor': 'F', 'x': 8, 'y': 8, 'z': 0, 'kelas': 0}\n",
            "{'vektor': 'G', 'x': 6, 'y': 6, 'z': 0, 'kelas': 0}\n",
            "\n",
            "\n",
            "Jarak vektor A dengan vektor H adalah sebesar 4.12\n",
            "Jarak vektor B dengan vektor H adalah sebesar 1.73\n",
            "Jarak vektor C dengan vektor H adalah sebesar 3.08\n",
            "Jarak vektor D dengan vektor H adalah sebesar 9.7\n",
            "Jarak vektor E dengan vektor H adalah sebesar 3.46\n",
            "Jarak vektor F dengan vektor H adalah sebesar 7.68\n",
            "Jarak vektor G dengan vektor H adalah sebesar 5.2\n",
            "Urutannya adalah:\n",
            "Jarak vektor B dengan vektor H adalah sebesar 1.73\n",
            "Jarak vektor C dengan vektor H adalah sebesar 3.08\n",
            "Jarak vektor E dengan vektor H adalah sebesar 3.46\n",
            "Jarak vektor A dengan vektor H adalah sebesar 4.12\n",
            "Jarak vektor G dengan vektor H adalah sebesar 5.2\n",
            "Jarak vektor F dengan vektor H adalah sebesar 7.68\n",
            "Jarak vektor D dengan vektor H adalah sebesar 9.7\n",
            "3 Tetangga terdekat:\n",
            "Vektor B dengan kelas 1 pada jarak 1.73 dengan vektor H\n",
            "Vektor C dengan kelas 1 pada jarak 3.08 dengan vektor H\n",
            "Vektor E dengan kelas 0 pada jarak 3.46 dengan vektor H\n",
            "Kelas yang paling banyak muncul adalah =  1\n",
            "Kelas dari vektor H =  1\n",
            "{'vektor': 'H', 'x': 3, 'y': 3, 'z': 3, 'kelas': 1}\n",
            "\n",
            "\n",
            "{'vektor': 'A', 'x': 0, 'y': 1, 'z': 1, 'kelas': 0}\n",
            "{'vektor': 'B', 'x': 2, 'y': 2, 'z': 2, 'kelas': 1}\n",
            "{'vektor': 'C', 'x': 1.5, 'y': 1.2, 'z': 1, 'kelas': 1}\n",
            "{'vektor': 'D', 'x': 10, 'y': 9, 'z': 0, 'kelas': 0}\n",
            "{'vektor': 'E', 'x': 5, 'y': 5, 'z': 5, 'kelas': 0}\n",
            "{'vektor': 'F', 'x': 8, 'y': 8, 'z': 0, 'kelas': 0}\n",
            "{'vektor': 'G', 'x': 6, 'y': 6, 'z': 0, 'kelas': 0}\n",
            "{'vektor': 'H', 'x': 3, 'y': 3, 'z': 3, 'kelas': 1}\n"
          ]
        }
      ]
    }
  ]
}